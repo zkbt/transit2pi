{
 "cells": [
  {
   "cell_type": "markdown",
   "metadata": {},
   "source": [
    "The `transit2pi` package holds three main functions that we will use to make exoplanet light curve or transit curves on a 360x1 degree planetarium dome surface. This notebook explains to a Python-using astronomer how to make use of these functions. It was written by [Taylor Washington](https://github.com/tejorwa), with help from [Zach Berta-Thompson](https://github.com/zkbt)."
   ]
  },
  {
   "cell_type": "code",
   "execution_count": null,
   "metadata": {},
   "outputs": [],
   "source": [
    "# import the package transit2pi and run the main functions.\n",
    "import transit2pi as t2p"
   ]
  },
  {
   "cell_type": "markdown",
   "metadata": {},
   "source": [
    "All three of the following functions accept (at least) these parameters. Many of the explanations of their meaning are taken from the `batman` package.\n",
    "\n",
    "+ `t0=0` is the time of inferior conjunction , which we set to 0 to place the curve center. \n",
    "+ `per=6.266` is the orbital period of the planet around the host star\n",
    "+ `rp=0.1` is the planet radius (in units of stellar radii)\n",
    "+ `a=6.85` is the semi-major axis (in units of stellar radii)\n",
    "+ `inc=90` is the orbital inclination (in degrees)\n",
    "+ `ecc=0` is the eccentricity, with 0 being the lowest and 1 being the highest\n",
    "+ `w=0` is the longitude of periastron (in degrees)\n",
    "+ `ylim=[None, None]` sets the y limits for the transit curve plot\n",
    "+ `filename='transit-movie.mp4' is where we name the file as we save the movie as an mp4\n",
    "\n",
    "\n",
    "\n",
    "\n",
    "\n",
    "\n",
    "\n",
    "\n"
   ]
  },
  {
   "cell_type": "markdown",
   "metadata": {},
   "source": [
    "# `make_transit_curve`\n",
    "The function make_transit_curve takes the default parameters of an exoplanet from `batman`, then cleans up the rough light curve with henrietta and then plots the light curve on a 360x1 degree screen. "
   ]
  },
  {
   "cell_type": "code",
   "execution_count": null,
   "metadata": {},
   "outputs": [],
   "source": [
    "# use t2p to call the make_transit_curve function\n",
    "t2p.make_transit_curve()"
   ]
  },
  {
   "cell_type": "markdown",
   "metadata": {},
   "source": [
    "# `make_transit_curve`\n",
    "\n",
    "The function `make_transit_movie` takes the defaulft parameters for an exoplanet using the input parameters from `batman` and imports it into this function which plots the light curve and create a bouncing ball movie into a gif. "
   ]
  },
  {
   "cell_type": "code",
   "execution_count": null,
   "metadata": {},
   "outputs": [],
   "source": [
    "# use t2p to call the make_transit_movie function\n",
    "t2p.make_transit_movie()"
   ]
  },
  {
   "cell_type": "markdown",
   "metadata": {},
   "source": [
    "# `make_transit_dots`\n",
    "\n",
    "The function `make_transit_dots` takes the exoplanet parameters and plots the lightcurve as white fading dots on a 360x1 degrees of screen. It generates a movie file in which the animation is saved. It takes these additional optional parameters:\n",
    "\n",
    "\n",
    "+ `sigma=0.001` is the noise that will be injected into the simulated light curve\n",
    "+ `showtimelabel=False` decides whether to include the time axis on the plot\n",
    "+ `fps=30` is the frames/second for the animation\n",
    "+ `minalpha=0.2`, `maxalpha=1.0`, `decay=0.2` set the transparency of the fading dots\n",
    "+ `minsize=10`, `maxsize=50` set the minimum and maximum sizes for the points\n",
    "+ `minphase=-0.5`, `maxphase = 2.5` sets what periods of the planets to simulate\n",
    "+ `cadence=0.0034` sets the size of the steps the transit curve will take to plot\n"
   ]
  },
  {
   "cell_type": "code",
   "execution_count": null,
   "metadata": {},
   "outputs": [],
   "source": [
    " # use t2p to call the maketransitdots function.\n",
    "t2p.make_transit_dots()"
   ]
  }
 ],
 "metadata": {
  "kernelspec": {
   "display_name": "Python 3",
   "language": "python",
   "name": "python3"
  },
  "language_info": {
   "codemirror_mode": {
    "name": "ipython",
    "version": 3
   },
   "file_extension": ".py",
   "mimetype": "text/x-python",
   "name": "python",
   "nbconvert_exporter": "python",
   "pygments_lexer": "ipython3",
   "version": "3.6.3"
  }
 },
 "nbformat": 4,
 "nbformat_minor": 2
}
