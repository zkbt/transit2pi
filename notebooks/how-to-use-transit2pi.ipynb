{
 "cells": [
  {
   "cell_type": "code",
   "execution_count": null,
   "metadata": {},
   "outputs": [],
   "source": [
    "#Import the package Transit2pi and run the main functions.\n",
    "import transit2pi as t2p\n",
    "#This package holds three main functions that we will use to make exoplanet light curve or transit curves \n",
    "#on a 360x1 degree planetarium dome surface\n",
    "#Audience group who knows how to code in Python but does not understand the functions."
   ]
  },
  {
   "cell_type": "code",
   "execution_count": null,
   "metadata": {},
   "outputs": [],
   "source": [
    "# How to use Batman for the functions (?)"
   ]
  },
  {
   "cell_type": "code",
   "execution_count": null,
   "metadata": {},
   "outputs": [],
   "source": [
    "# This function takes the exoplanet parameters and plots the lightcurve as white fading dots on a 360x1 degrees of screen\n",
    "# Then it generates a movie file in which the animation is saved.\n",
    "# The parameters of the function. ( Mostly the explanations are taken from Batman)\n",
    "\n",
    "#t0=0,               time of inferior conjunction , which we set to 0 to place the curve center. \n",
    "#per=6.266           orbital period of the planet around the host star(s)\n",
    "#rp=0.1              planet radius (in units of stellar radii)\n",
    "#a=6.85,             semi-major axis (in units of stellar radii)\n",
    "#inc=90,             orbital inclination (in degrees)\n",
    "#ecc=0               eccentricity  0 being the lowest and 1 being the highest\n",
    "# w=0,               longitude of periastron (in degrees)\n",
    "# sigma=0.001, ylim=[None, None],             This is our change in the y limits as the transit curve is plotted. \n",
    "                                            #Sigme being our change in y and ylim being the bounds of y.\n",
    "# filename='transit-movie.mp4',            This is where we name the file as we save the movie as an mp4\n",
    "#showtimelabel=False,    fps = 30,         Not sure what this is \n",
    "# minalpha=0.2, maxalpha=1.0, decay=0.2,      # . \n",
    "# minsize=10, maxsize=50,\n",
    "# minphase = -0.5, maxphase = 2.5,        This is the phase of the transit on the figure we create from the minphase \n",
    "                                          # the maxphase being the height of the transit curve. \n",
    "#cadence = 0.0034,                        The amount of steps the transit curve will take to plot the shape of curve we want.\n",
    "\n",
    "\n",
    "\n"
   ]
  },
  {
   "cell_type": "code",
   "execution_count": null,
   "metadata": {},
   "outputs": [],
   "source": [
    " # use t2p to call the maketransitdots function.\n",
    "    \n",
    "    \n",
    "t2p.make_transit_dots()"
   ]
  },
  {
   "cell_type": "code",
   "execution_count": null,
   "metadata": {},
   "outputs": [],
   "source": [
    "# The function make_transit_curve takes the default parameters of an exoplanet from Batman, \n",
    "# then cleans up the rough light curve.\n",
    "# With henrietta and then plots the light curve on a 360x1 degree screen. "
   ]
  },
  {
   "cell_type": "code",
   "execution_count": null,
   "metadata": {},
   "outputs": [],
   "source": [
    "\n",
    "t2p.make_transit_curve()\n",
    "\n"
   ]
  },
  {
   "cell_type": "code",
   "execution_count": null,
   "metadata": {},
   "outputs": [],
   "source": [
    "# This function [ make_transit_movie] takes the defaulft parameters for an exoplanet using the input parameters from Batman\n",
    "# and imports it into this function which plots the light curve and create a bouncing ball movie into a gif. \n",
    "\n",
    "#from __future__ import print_function\n",
    "#import numpy as np\n",
    "#from matplotlib import pyplot as plt\n",
    "#from matplotlib import animation                    Allows us to make an animation of the imported and cleaned transit curves \n",
    "#                                                     we want to plot on the dome\n",
    "#import batman\n",
    "#from .planetplotlib import create_dome_plot         This imports the function create_dome_plot which allows us to transfer the transit curve \n",
    "#                                                     onto a dome like plot. \n",
    "\n",
    "\n",
    "\n",
    "\n",
    "t2p.make_transit_movie()\n",
    "\n",
    "\n"
   ]
  },
  {
   "cell_type": "code",
   "execution_count": null,
   "metadata": {},
   "outputs": [],
   "source": []
  }
 ],
 "metadata": {
  "kernelspec": {
   "display_name": "Python 3",
   "language": "python",
   "name": "python3"
  },
  "language_info": {
   "codemirror_mode": {
    "name": "ipython",
    "version": 3
   },
   "file_extension": ".py",
   "mimetype": "text/x-python",
   "name": "python",
   "nbconvert_exporter": "python",
   "pygments_lexer": "ipython3",
   "version": "3.6.3"
  }
 },
 "nbformat": 4,
 "nbformat_minor": 2
}
